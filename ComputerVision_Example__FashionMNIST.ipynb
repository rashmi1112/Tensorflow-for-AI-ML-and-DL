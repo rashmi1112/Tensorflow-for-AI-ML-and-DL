{
  "nbformat": 4,
  "nbformat_minor": 0,
  "metadata": {
    "colab": {
      "name": "ComputerVision Example_ FashionMNIST.ipynb",
      "provenance": [],
      "collapsed_sections": [],
      "authorship_tag": "ABX9TyPjSfr4OerKbEPESy0Ei45y",
      "include_colab_link": true
    },
    "kernelspec": {
      "name": "python3",
      "display_name": "Python 3"
    },
    "language_info": {
      "name": "python"
    }
  },
  "cells": [
    {
      "cell_type": "markdown",
      "metadata": {
        "id": "view-in-github",
        "colab_type": "text"
      },
      "source": [
        "<a href=\"https://colab.research.google.com/github/rashmi1112/Tensorflow-for-AI-ML-and-DL/blob/main/ComputerVision_Example__FashionMNIST.ipynb\" target=\"_parent\"><img src=\"https://colab.research.google.com/assets/colab-badge.svg\" alt=\"Open In Colab\"/></a>"
      ]
    },
    {
      "cell_type": "code",
      "execution_count": 1,
      "metadata": {
        "id": "dpX_wN8aa3JV"
      },
      "outputs": [],
      "source": [
        "import tensorflow as tf\n",
        "from tensorflow import keras\n"
      ]
    },
    {
      "cell_type": "code",
      "source": [
        "## Load the Fashion MNIST dataset \n",
        "fmnist = tf.keras.datasets.fashion_mnist"
      ],
      "metadata": {
        "id": "3yip7oz_bMlK"
      },
      "execution_count": 2,
      "outputs": []
    },
    {
      "cell_type": "code",
      "source": [
        "## Calling load_data() on fmnist object will give us 2 tuples with 2 lists each\n",
        "\n",
        "(train_images, train_labels), (test_images, test_labels) = fmnist.load_data()"
      ],
      "metadata": {
        "colab": {
          "base_uri": "https://localhost:8080/"
        },
        "id": "LRaH-87ZbcQs",
        "outputId": "b43994eb-2790-465d-8594-a86bc04c4258"
      },
      "execution_count": 3,
      "outputs": [
        {
          "output_type": "stream",
          "name": "stdout",
          "text": [
            "Downloading data from https://storage.googleapis.com/tensorflow/tf-keras-datasets/train-labels-idx1-ubyte.gz\n",
            "32768/29515 [=================================] - 0s 0us/step\n",
            "40960/29515 [=========================================] - 0s 0us/step\n",
            "Downloading data from https://storage.googleapis.com/tensorflow/tf-keras-datasets/train-images-idx3-ubyte.gz\n",
            "26427392/26421880 [==============================] - 0s 0us/step\n",
            "26435584/26421880 [==============================] - 0s 0us/step\n",
            "Downloading data from https://storage.googleapis.com/tensorflow/tf-keras-datasets/t10k-labels-idx1-ubyte.gz\n",
            "16384/5148 [===============================================================================================] - 0s 0us/step\n",
            "Downloading data from https://storage.googleapis.com/tensorflow/tf-keras-datasets/t10k-images-idx3-ubyte.gz\n",
            "4423680/4422102 [==============================] - 0s 0us/step\n",
            "4431872/4422102 [==============================] - 0s 0us/step\n"
          ]
        }
      ]
    },
    {
      "cell_type": "code",
      "source": [
        "## Taking a look at data elements\n",
        "\n",
        "import numpy as np\n",
        "import matplotlib.pyplot as plt\n",
        "\n",
        "idx = 40\n",
        "\n",
        "# set the number of characters per row when printing\n",
        "np.set_printoptions(linewidth = 320)\n",
        "\n",
        "# print the label and image\n",
        "print(f'LABEL: {train_labels[idx]}')\n",
        "print(f'IMAGE PIXEL ARRAY: {train_images[idx]}')\n",
        "\n",
        "# visualize the image\n",
        "plt.imshow(train_images[idx])"
      ],
      "metadata": {
        "colab": {
          "base_uri": "https://localhost:8080/",
          "height": 806
        },
        "id": "6tfIyevZb-oI",
        "outputId": "89f0306b-f70e-4d4b-9398-0b6dbfe81332"
      },
      "execution_count": 19,
      "outputs": [
        {
          "output_type": "stream",
          "name": "stdout",
          "text": [
            "LABEL: 6\n",
            "IMAGE PIXEL ARRAY: [[0.         0.         0.         0.         0.         0.         0.         0.         0.00392157 0.         0.         0.14509804 0.75294118 0.69411765 0.67058824 0.78039216 0.10588235 0.         0.         0.         0.00392157 0.01176471 0.         0.         0.         0.         0.         0.        ]\n",
            " [0.         0.         0.         0.         0.         0.         0.03529412 0.         0.         0.         0.         0.52941176 0.90196078 0.63529412 0.60784314 0.99215686 0.64313725 0.05490196 0.         0.         0.         0.         0.01176471 0.         0.         0.         0.         0.        ]\n",
            " [0.         0.         0.         0.         0.00392157 0.         0.         0.         0.25098039 0.59607843 0.90980392 0.81176471 0.76470588 0.60784314 0.61568627 0.78823529 0.89019608 0.87843137 0.86666667 0.6745098  0.36862745 0.01568627 0.         0.         0.         0.         0.         0.        ]\n",
            " [0.         0.         0.         0.         0.         0.         0.43921569 0.70196078 0.80392157 0.78039216 0.75294118 0.77254902 0.84705882 0.76078431 0.75294118 0.8627451  0.82352941 0.75294118 0.74901961 0.79607843 0.81176471 0.81568627 0.24313725 0.         0.00392157 0.         0.         0.        ]\n",
            " [0.         0.         0.         0.         0.         0.29411765 0.81568627 0.72941176 0.69803922 0.7254902  0.6745098  0.77254902 0.83529412 0.76470588 0.78431373 0.81568627 0.78039216 0.7372549  0.73333333 0.70980392 0.70588235 0.8        0.75294118 0.         0.         0.         0.         0.        ]\n",
            " [0.         0.         0.         0.         0.         0.70588235 0.74509804 0.70196078 0.7254902  0.71372549 0.72156863 0.69803922 0.65098039 0.75686275 0.7254902  0.65490196 0.73333333 0.72941176 0.72156863 0.72156863 0.75294118 0.75294118 0.8745098  0.10980392 0.         0.         0.         0.        ]\n",
            " [0.         0.         0.         0.         0.         0.80392157 0.74509804 0.71372549 0.71372549 0.7254902  0.71372549 0.7254902  0.70980392 0.71372549 0.70588235 0.70588235 0.7254902  0.72941176 0.71372549 0.72156863 0.78823529 0.76470588 0.85882353 0.28235294 0.         0.         0.         0.        ]\n",
            " [0.         0.         0.         0.         0.         0.82352941 0.72941176 0.76078431 0.70980392 0.70980392 0.71372549 0.69803922 0.70588235 0.72156863 0.71372549 0.69411765 0.70196078 0.7254902  0.72156863 0.76078431 0.82745098 0.7372549  0.85490196 0.37254902 0.         0.         0.         0.        ]\n",
            " [0.         0.         0.         0.         0.         0.85098039 0.70196078 0.75686275 0.75686275 0.68627451 0.68627451 0.68235294 0.69803922 0.71372549 0.72156863 0.68235294 0.69411765 0.69411765 0.72941176 0.80784314 0.81568627 0.7254902  0.85882353 0.41568627 0.         0.         0.         0.        ]\n",
            " [0.         0.         0.         0.         0.05490196 0.85098039 0.68627451 0.72941176 0.80784314 0.72156863 0.67843137 0.68235294 0.69411765 0.70196078 0.70588235 0.67843137 0.68235294 0.6745098  0.76078431 0.82352941 0.79607843 0.72941176 0.83921569 0.46666667 0.         0.         0.         0.        ]\n",
            " [0.         0.         0.         0.         0.1372549  0.8627451  0.66666667 0.76078431 0.83529412 0.72941176 0.70980392 0.68235294 0.69411765 0.68627451 0.70980392 0.69411765 0.69803922 0.70196078 0.78039216 0.83529412 0.85098039 0.69803922 0.83921569 0.50588235 0.         0.         0.         0.        ]\n",
            " [0.         0.         0.         0.         0.19215686 0.8627451  0.67058824 0.74901961 0.77647059 0.77647059 0.70196078 0.69411765 0.68627451 0.67843137 0.69803922 0.68627451 0.68627451 0.71372549 0.75294118 0.82352941 0.72941176 0.70588235 0.81568627 0.58431373 0.         0.         0.         0.        ]\n",
            " [0.         0.         0.         0.         0.2745098  0.8627451  0.67843137 0.68235294 0.40392157 0.88235294 0.68627451 0.70196078 0.68627451 0.68235294 0.70588235 0.69411765 0.70196078 0.70196078 0.8        0.76470588 0.43921569 0.81176471 0.77647059 0.7254902  0.         0.         0.         0.        ]\n",
            " [0.         0.         0.         0.         0.30196078 0.83921569 0.70196078 0.73333333 0.16078431 0.94117647 0.70196078 0.70196078 0.69411765 0.68235294 0.70588235 0.69803922 0.70588235 0.70588235 0.84705882 0.68235294 0.23921569 0.89803922 0.76078431 0.80392157 0.         0.         0.         0.        ]\n",
            " [0.         0.         0.         0.         0.36862745 0.74509804 0.72156863 0.77254902 0.         0.87843137 0.72941176 0.70196078 0.69411765 0.68627451 0.70196078 0.70196078 0.72156863 0.69411765 0.8745098  0.6        0.12941176 0.93333333 0.7372549  0.7372549  0.         0.         0.         0.        ]\n",
            " [0.         0.         0.         0.         0.43137255 0.72941176 0.76078431 0.70980392 0.         0.85098039 0.75294118 0.70196078 0.70196078 0.69411765 0.69803922 0.69411765 0.72156863 0.69803922 0.89803922 0.56862745 0.         0.94117647 0.72941176 0.77254902 0.         0.         0.         0.        ]\n",
            " [0.         0.         0.         0.         0.44705882 0.72156863 0.77254902 0.64705882 0.         0.81568627 0.77647059 0.69803922 0.70588235 0.70980392 0.72156863 0.69803922 0.72156863 0.69803922 0.88627451 0.61568627 0.         0.95686275 0.72156863 0.78823529 0.01568627 0.         0.         0.        ]\n",
            " [0.         0.         0.         0.         0.40392157 0.71372549 0.76470588 0.52941176 0.         0.78823529 0.75294118 0.69411765 0.70588235 0.70980392 0.73333333 0.70196078 0.72156863 0.69411765 0.86666667 0.67843137 0.         0.88627451 0.72941176 0.8        0.11764706 0.         0.         0.        ]\n",
            " [0.         0.         0.         0.         0.37254902 0.71372549 0.76078431 0.34509804 0.         0.81568627 0.74901961 0.69411765 0.70588235 0.70588235 0.70980392 0.69411765 0.71372549 0.71372549 0.81568627 0.77254902 0.         0.75686275 0.75686275 0.80784314 0.18823529 0.         0.         0.        ]\n",
            " [0.         0.         0.         0.         0.36470588 0.71372549 0.77647059 0.1372549  0.         0.87843137 0.7372549  0.70588235 0.70588235 0.70196078 0.72156863 0.70588235 0.72156863 0.72941176 0.75294118 0.85490196 0.         0.60784314 0.77254902 0.80392157 0.24313725 0.         0.         0.        ]\n",
            " [0.         0.         0.         0.         0.34117647 0.71372549 0.76470588 0.00392157 0.         0.90980392 0.72156863 0.70980392 0.70588235 0.70196078 0.72156863 0.70196078 0.70588235 0.71372549 0.72941176 0.9372549  0.         0.42352941 0.77647059 0.80392157 0.29019608 0.         0.         0.        ]\n",
            " [0.         0.         0.         0.         0.31372549 0.72156863 0.87843137 0.         0.         0.93333333 0.70588235 0.70588235 0.70588235 0.70588235 0.70980392 0.69803922 0.70588235 0.7254902  0.72156863 0.98823529 0.         0.12941176 0.78823529 0.80392157 0.3254902  0.         0.         0.        ]\n",
            " [0.         0.         0.         0.         0.29411765 0.7254902  0.8745098  0.         0.01176471 0.9372549  0.70196078 0.70196078 0.70588235 0.70980392 0.7254902  0.70980392 0.71372549 0.73333333 0.71372549 1.         0.0627451  0.         0.92941176 0.80392157 0.35294118 0.         0.         0.        ]\n",
            " [0.         0.         0.         0.         0.2627451  0.7372549  0.8        0.         0.05490196 0.91764706 0.70196078 0.70196078 0.70196078 0.70588235 0.73333333 0.70980392 0.70196078 0.69803922 0.70980392 0.97647059 0.18039216 0.         0.88235294 0.82352941 0.36862745 0.         0.         0.        ]\n",
            " [0.         0.         0.         0.         0.25882353 0.74509804 0.62745098 0.         0.01960784 0.90588235 0.70588235 0.70588235 0.69803922 0.69411765 0.70588235 0.70196078 0.70980392 0.70588235 0.70588235 0.82745098 0.19607843 0.         0.68627451 0.8        0.44705882 0.         0.         0.        ]\n",
            " [0.         0.         0.         0.         0.40392157 0.82745098 0.65490196 0.         0.         0.74509804 0.70980392 0.69411765 0.67843137 0.67843137 0.67843137 0.6745098  0.68235294 0.69411765 0.70196078 0.82745098 0.09019608 0.         0.65098039 0.8627451  0.50588235 0.         0.         0.        ]\n",
            " [0.         0.         0.         0.         0.24313725 0.59215686 0.55686275 0.         0.         0.70196078 0.76078431 0.7372549  0.85882353 0.83921569 0.81568627 0.81568627 0.82352941 0.7372549  0.78823529 0.64705882 0.         0.         0.4745098  0.57254902 0.34901961 0.         0.         0.        ]\n",
            " [0.         0.         0.         0.         0.         0.         0.         0.         0.         0.         0.11764706 0.21568627 0.31764706 0.37647059 0.35294118 0.39215686 0.34901961 0.29803922 0.16078431 0.         0.         0.         0.         0.         0.         0.         0.         0.        ]]\n"
          ]
        },
        {
          "output_type": "execute_result",
          "data": {
            "text/plain": [
              "<matplotlib.image.AxesImage at 0x7fc8e1417590>"
            ]
          },
          "metadata": {},
          "execution_count": 19
        },
        {
          "output_type": "display_data",
          "data": {
            "image/png": "[encoded data removed]",
            "text/plain": [
              "<Figure size 432x288 with 1 Axes>"
            ]
          },
          "metadata": {
            "needs_background": "light"
          }
        }
      ]
    },
    {
      "cell_type": "code",
      "source": [
        "## Normalize the pixel value of both train and test images\n",
        "\n",
        "train_images = train_images/ 255.0\n",
        "test_images = test_images / 255.0"
      ],
      "metadata": {
        "id": "oCvJMbGqdHsZ"
      },
      "execution_count": 6,
      "outputs": []
    },
    {
      "cell_type": "code",
      "source": [
        "## Building the classification model\n",
        "\n",
        "model = tf.keras.Sequential(\n",
        "    [tf.keras.layers.Flatten(),\n",
        "    tf.keras.layers.Dense(units = 1024, activation = tf.nn.relu),\n",
        "    tf.keras.layers.Dense(units = 10, activation = tf.nn.softmax)])"
      ],
      "metadata": {
        "id": "ssJs3vxys40G"
      },
      "execution_count": 20,
      "outputs": []
    },
    {
      "cell_type": "code",
      "source": [
        "## Callback class\n",
        "class myCallback(tf.keras.callbacks.Callback):\n",
        "  def on_epoch_end(self, epoch, logs = {}):\n",
        "    if logs.get('accuracy') > 0.91:\n",
        "      print(\"stopping the training ,since accuracy reached greater than 91%\")\n",
        "      self.model.stop_training = True\n",
        "\n",
        "# Instantiating the callback class\n",
        "cb = myCallback()\n",
        "## Compile the model\n",
        "\n",
        "model.compile(optimizer = tf.optimizers.Adam(), loss = 'sparse_categorical_crossentropy', metrics = ['accuracy'])\n",
        "model.fit(train_images, train_labels, epochs = 10, callbacks=cb)"
      ],
      "metadata": {
        "colab": {
          "base_uri": "https://localhost:8080/"
        },
        "id": "x5MCs8matvov",
        "outputId": "6599e6e3-e055-4e12-d0af-0d7c8328ce74"
      },
      "execution_count": 21,
      "outputs": [
        {
          "output_type": "stream",
          "name": "stdout",
          "text": [
            "Epoch 1/10\n",
            "1875/1875 [==============================] - 15s 8ms/step - loss: 0.4692 - accuracy: 0.8313\n",
            "Epoch 2/10\n",
            "1875/1875 [==============================] - 15s 8ms/step - loss: 0.3565 - accuracy: 0.8701\n",
            "Epoch 3/10\n",
            "1875/1875 [==============================] - 15s 8ms/step - loss: 0.3192 - accuracy: 0.8821\n",
            "Epoch 4/10\n",
            "1875/1875 [==============================] - 15s 8ms/step - loss: 0.2942 - accuracy: 0.8901\n",
            "Epoch 5/10\n",
            "1875/1875 [==============================] - 15s 8ms/step - loss: 0.2777 - accuracy: 0.8967\n",
            "Epoch 6/10\n",
            "1875/1875 [==============================] - 15s 8ms/step - loss: 0.2633 - accuracy: 0.9011\n",
            "Epoch 7/10\n",
            "1875/1875 [==============================] - 15s 8ms/step - loss: 0.2495 - accuracy: 0.9065\n",
            "Epoch 8/10\n",
            "1871/1875 [============================>.] - ETA: 0s - loss: 0.2375 - accuracy: 0.9106stopping the training ,since accuracy reached greater than 91%\n",
            "1875/1875 [==============================] - 15s 8ms/step - loss: 0.2374 - accuracy: 0.9107\n"
          ]
        },
        {
          "output_type": "execute_result",
          "data": {
            "text/plain": [
              "<keras.callbacks.History at 0x7fc8e14469d0>"
            ]
          },
          "metadata": {},
          "execution_count": 21
        }
      ]
    },
    {
      "cell_type": "code",
      "source": [
        "## Evaluate the model\n",
        "\n",
        "model.evaluate(test_images, test_labels)"
      ],
      "metadata": {
        "colab": {
          "base_uri": "https://localhost:8080/"
        },
        "id": "1WJuJo3CvZyj",
        "outputId": "78c8c36a-5897-4720-e33f-56c057cc4efd"
      },
      "execution_count": 9,
      "outputs": [
        {
          "output_type": "stream",
          "name": "stdout",
          "text": [
            "313/313 [==============================] - 1s 2ms/step - loss: 0.3396 - accuracy: 0.8822\n"
          ]
        },
        {
          "output_type": "execute_result",
          "data": {
            "text/plain": [
              "[0.3396320939064026, 0.8822000026702881]"
            ]
          },
          "metadata": {},
          "execution_count": 9
        }
      ]
    },
    {
      "cell_type": "code",
      "source": [
        "## Exercise 1\n",
        "\n",
        "classifications = model.predict(test_images)\n",
        "print(classifications[0])\n",
        "\n",
        "## This list represents the probabilities of that image belonging to a particular category/class. For example the test_image[0] being a label 0 is 1.33e-05 and the same image being\n",
        "## of label 9 is 9.34e-01. The highest probability defines the class of the image."
      ],
      "metadata": {
        "colab": {
          "base_uri": "https://localhost:8080/"
        },
        "id": "3GGHCN8hxyLP",
        "outputId": "3c74c674-3816-45dc-a3b1-314a4af7d275"
      },
      "execution_count": 15,
      "outputs": [
        {
          "output_type": "stream",
          "name": "stdout",
          "text": [
            "[1.3350062e-05 8.3799918e-09 4.1088310e-07 2.0551304e-12 1.1831108e-07 1.8776776e-02 1.8879561e-08 4.6912249e-02 4.4565672e-06 9.3429261e-01]\n"
          ]
        }
      ]
    },
    {
      "cell_type": "code",
      "source": [
        ""
      ],
      "metadata": {
        "colab": {
          "base_uri": "https://localhost:8080/"
        },
        "id": "o7O8U706r8EO",
        "outputId": "d4876b1f-38ad-40bf-b1b4-517e73787e82"
      },
      "execution_count": 16,
      "outputs": [
        {
          "output_type": "stream",
          "name": "stdout",
          "text": [
            "9\n"
          ]
        }
      ]
    },
    {
      "cell_type": "code",
      "source": [
        ""
      ],
      "metadata": {
        "id": "doltLNHns5B4"
      },
      "execution_count": null,
      "outputs": []
    }
  ]
}