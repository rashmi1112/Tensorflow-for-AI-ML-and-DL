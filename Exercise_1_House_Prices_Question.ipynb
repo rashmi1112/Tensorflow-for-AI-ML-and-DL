{
  "nbformat": 4,
  "nbformat_minor": 0,
  "metadata": {
    "colab": {
      "name": "Exercise_1_House_Prices_Question.ipynb",
      "provenance": [],
      "authorship_tag": "ABX9TyOLCjgHXUH/CUifSPh1DPrk",
      "include_colab_link": true
    },
    "kernelspec": {
      "name": "python3",
      "display_name": "Python 3"
    },
    "language_info": {
      "name": "python"
    }
  },
  "cells": [
    {
      "cell_type": "markdown",
      "metadata": {
        "id": "view-in-github",
        "colab_type": "text"
      },
      "source": [
        "<a href=\"https://colab.research.google.com/github/rashmi1112/Tensorflow-for-AI-ML-and-DL/blob/main/Exercise_1_House_Prices_Question.ipynb\" target=\"_parent\"><img src=\"https://colab.research.google.com/assets/colab-badge.svg\" alt=\"Open In Colab\"/></a>"
      ]
    },
    {
      "cell_type": "code",
      "execution_count": 1,
      "metadata": {
        "id": "7cMevdfhEneG"
      },
      "outputs": [],
      "source": [
        "import tensorflow as tf\n",
        "import numpy as np\n",
        "from tensorflow import keras"
      ]
    },
    {
      "cell_type": "code",
      "source": [
        "## Building a model\n",
        "\n",
        "def house_model(y_new):\n",
        "  model = tf.keras.Sequential([keras.layers.Dense(units = 1, input_shape = (1,))])\n",
        "## Compiling your model\n",
        "  model.compile(optimizer = 'sgd', loss = 'mean_squared_error')\n",
        "## define labels\n",
        "  xs = np.array([0,1,2,3,4,5], dtype = int)\n",
        "  ys = np.array([0.5, 1.0,1.5,2.0,2.5,3.0], dtype = float)\n",
        "## train the model\n",
        "  model.fit(xs, ys, epochs = 1000)\n",
        "## predict the outcome\n",
        "  return np.round(model.predict([y_new]))\n",
        "\n"
      ],
      "metadata": {
        "id": "hEMMcIn1JT8Y"
      },
      "execution_count": 3,
      "outputs": []
    },
    {
      "cell_type": "code",
      "source": [
        "print(house_model(7))"
      ],
      "metadata": {
        "id": "WmMjz2YHKt_I"
      },
      "execution_count": null,
      "outputs": []
    },
    {
      "cell_type": "code",
      "source": [
        ""
      ],
      "metadata": {
        "id": "7aa_SDhdK_2s"
      },
      "execution_count": null,
      "outputs": []
    }
  ]
}