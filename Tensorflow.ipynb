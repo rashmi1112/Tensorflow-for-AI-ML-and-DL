{
  "nbformat": 4,
  "nbformat_minor": 0,
  "metadata": {
    "colab": {
      "name": "Tensorflow ",
      "provenance": [],
      "authorship_tag": "ABX9TyMIK1qAPa0MTFCpqj9Ot7GU",
      "include_colab_link": true
    },
    "kernelspec": {
      "name": "python3",
      "display_name": "Python 3"
    },
    "language_info": {
      "name": "python"
    }
  },
  "cells": [
    {
      "cell_type": "markdown",
      "metadata": {
        "id": "view-in-github",
        "colab_type": "text"
      },
      "source": [
        "<a href=\"https://colab.research.google.com/github/rashmi1112/Tensorflow-for-AI-ML-and-DL/blob/main/Tensorflow.ipynb\" target=\"_parent\"><img src=\"https://colab.research.google.com/assets/colab-badge.svg\" alt=\"Open In Colab\"/></a>"
      ]
    },
    {
      "cell_type": "code",
      "execution_count": null,
      "metadata": {
        "id": "GWxyXDMmjV3i"
      },
      "outputs": [],
      "source": [
        "import tensorflow as tf\n",
        "import numpy as np\n",
        "from tensorflow import keras"
      ]
    },
    {
      "cell_type": "code",
      "source": [
        "## Building a simple sequential model\n",
        "model = tf.keras.Sequential([keras.layers.Dense(units = 1, input_shape = [1])])"
      ],
      "metadata": {
        "id": "FCqdP-4qsLOx"
      },
      "execution_count": null,
      "outputs": []
    },
    {
      "cell_type": "code",
      "source": [
        "## Compiling the model\n",
        "\n",
        "model.compile(optimizer = 'sgd', loss='mean_squared_error')"
      ],
      "metadata": {
        "id": "vpU1Cd09_ZXD"
      },
      "execution_count": null,
      "outputs": []
    },
    {
      "cell_type": "code",
      "source": [
        "## Declare the input for the model\n",
        "\n",
        "xx = np.array([-1.0, 0.0, 1.0, 2.0, 3.0, 4.0], dtype = float)\n",
        "xy = np.array([-3.0, -1.0, 1.0, 3.0, 5.0, 7.0], dtype = float)"
      ],
      "metadata": {
        "id": "85t6UjXnBsVG"
      },
      "execution_count": null,
      "outputs": []
    },
    {
      "cell_type": "code",
      "source": [
        "## Training the NN\n",
        "\n",
        "model.fit(xx, xy, epochs = 500)"
      ],
      "metadata": {
        "id": "BcwSEj_JCRRb"
      },
      "execution_count": null,
      "outputs": []
    },
    {
      "cell_type": "code",
      "source": [
        "print(model.predict([10.0]))"
      ],
      "metadata": {
        "colab": {
          "base_uri": "https://localhost:8080/"
        },
        "id": "26JeOYI6CXiO",
        "outputId": "3d555fb7-2209-4d39-e28b-ad95c379b60b"
      },
      "execution_count": null,
      "outputs": [
        {
          "output_type": "stream",
          "name": "stdout",
          "text": [
            "[[18.980236]]\n"
          ]
        }
      ]
    },
    {
      "cell_type": "code",
      "source": [
        ""
      ],
      "metadata": {
        "id": "8rxd94rGCgkW"
      },
      "execution_count": null,
      "outputs": []
    }
  ]
}